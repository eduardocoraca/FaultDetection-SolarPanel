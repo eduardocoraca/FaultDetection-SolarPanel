{
 "cells": [
  {
   "cell_type": "code",
   "execution_count": 2,
   "metadata": {},
   "outputs": [],
   "source": [
    "import pandas as pd\n",
    "import numpy as np"
   ]
  },
  {
   "cell_type": "code",
   "execution_count": 23,
   "metadata": {},
   "outputs": [],
   "source": [
    "pred_sem_vit = pd.DataFrame()\n",
    "pred_sem_vit['Celula'] = ['1A','1A','1A','1A','2B']\n",
    "pred_sem_vit['Modelo'] = ['Detecção','Detecção','Segmentação','Segmentação','Detecção']\n",
    "pred_sem_vit['Status'] = ['Solda fria']*5\n",
    "pred_sem_vit['Tamanho'] = [0.3,0.4,0.2,0.3,0.1]"
   ]
  },
  {
   "cell_type": "code",
   "execution_count": 24,
   "metadata": {},
   "outputs": [
    {
     "data": {
      "text/html": [
       "<div>\n",
       "<style scoped>\n",
       "    .dataframe tbody tr th:only-of-type {\n",
       "        vertical-align: middle;\n",
       "    }\n",
       "\n",
       "    .dataframe tbody tr th {\n",
       "        vertical-align: top;\n",
       "    }\n",
       "\n",
       "    .dataframe thead th {\n",
       "        text-align: right;\n",
       "    }\n",
       "</style>\n",
       "<table border=\"1\" class=\"dataframe\">\n",
       "  <thead>\n",
       "    <tr style=\"text-align: right;\">\n",
       "      <th></th>\n",
       "      <th>Celula</th>\n",
       "      <th>Modelo</th>\n",
       "      <th>Status</th>\n",
       "      <th>Tamanho</th>\n",
       "    </tr>\n",
       "  </thead>\n",
       "  <tbody>\n",
       "    <tr>\n",
       "      <th>0</th>\n",
       "      <td>1A</td>\n",
       "      <td>Detecção</td>\n",
       "      <td>Solda fria</td>\n",
       "      <td>0.3</td>\n",
       "    </tr>\n",
       "    <tr>\n",
       "      <th>1</th>\n",
       "      <td>1A</td>\n",
       "      <td>Detecção</td>\n",
       "      <td>Solda fria</td>\n",
       "      <td>0.4</td>\n",
       "    </tr>\n",
       "    <tr>\n",
       "      <th>2</th>\n",
       "      <td>1A</td>\n",
       "      <td>Segmentação</td>\n",
       "      <td>Solda fria</td>\n",
       "      <td>0.2</td>\n",
       "    </tr>\n",
       "    <tr>\n",
       "      <th>3</th>\n",
       "      <td>1A</td>\n",
       "      <td>Segmentação</td>\n",
       "      <td>Solda fria</td>\n",
       "      <td>0.3</td>\n",
       "    </tr>\n",
       "    <tr>\n",
       "      <th>4</th>\n",
       "      <td>2B</td>\n",
       "      <td>Detecção</td>\n",
       "      <td>Solda fria</td>\n",
       "      <td>0.1</td>\n",
       "    </tr>\n",
       "  </tbody>\n",
       "</table>\n",
       "</div>"
      ],
      "text/plain": [
       "  Celula       Modelo      Status  Tamanho\n",
       "0     1A     Detecção  Solda fria      0.3\n",
       "1     1A     Detecção  Solda fria      0.4\n",
       "2     1A  Segmentação  Solda fria      0.2\n",
       "3     1A  Segmentação  Solda fria      0.3\n",
       "4     2B     Detecção  Solda fria      0.1"
      ]
     },
     "execution_count": 24,
     "metadata": {},
     "output_type": "execute_result"
    }
   ],
   "source": [
    "pred_sem_vit"
   ]
  },
  {
   "cell_type": "code",
   "execution_count": 27,
   "metadata": {},
   "outputs": [],
   "source": [
    "def check_sf(predictions:pd.DataFrame, cell:str, crit_sf:float):\n",
    "    '''Checks if the selected has an SF fault.\n",
    "    Args:\n",
    "        predictions: dataframe w/ columns ['Modelo','Celula','Status','Tamanho']\n",
    "        cell: cell to be analyzed\n",
    "        crit_sf: criteria for SF fault\n",
    "    Returns:\n",
    "        fault: True if SF fault is present\n",
    "    '''\n",
    "    f_sf = predictions.loc[((predictions['Celula']==cell) & (predictions['Status']=='Solda fria'))]\n",
    "    f_sf_deteccao = f_sf.loc[f_sf['Modelo']=='Detecção']\n",
    "    t_det = np.sum(f_sf_deteccao['Tamanho'])\n",
    "\n",
    "    f_sf_segmentacao = f_sf.loc[f_sf['Modelo']=='Segmentação']\n",
    "    t_seg = np.sum(f_sf_segmentacao['Tamanho'])    \n",
    "    if (t_det > crit_sf) & (t_seg > crit_sf):\n",
    "        return True\n",
    "    else:\n",
    "        return False"
   ]
  },
  {
   "cell_type": "code",
   "execution_count": 30,
   "metadata": {},
   "outputs": [
    {
     "data": {
      "text/plain": [
       "True"
      ]
     },
     "execution_count": 30,
     "metadata": {},
     "output_type": "execute_result"
    }
   ],
   "source": [
    "check_sf(predictions=pred_sem_vit, cell='1A', crit_sf=0.4)"
   ]
  },
  {
   "cell_type": "code",
   "execution_count": 16,
   "metadata": {},
   "outputs": [],
   "source": [
    "c = '2B'\n",
    "f_sf = pred_sem_vit.loc[((pred_sem_vit['Celula']==c) & (pred_sem_vit['Status']=='Solda fria'))]"
   ]
  },
  {
   "cell_type": "code",
   "execution_count": 17,
   "metadata": {},
   "outputs": [],
   "source": [
    "f_sf_deteccao = f_sf.loc[f_sf['Modelo']=='Detecção']\n",
    "t_deteccao = np.sum(f_sf_deteccao['Tamanho'])\n",
    "\n",
    "f_sf_segmentacao = f_sf.loc[f_sf['Modelo']=='Segmentação']\n",
    "t_segmentacao = np.sum(f_sf_segmentacao['Tamanho'])\n"
   ]
  },
  {
   "cell_type": "code",
   "execution_count": 19,
   "metadata": {},
   "outputs": [
    {
     "data": {
      "text/plain": [
       "(0.1, 0.0)"
      ]
     },
     "execution_count": 19,
     "metadata": {},
     "output_type": "execute_result"
    }
   ],
   "source": [
    "t_deteccao, t_segmentacao\n"
   ]
  },
  {
   "cell_type": "code",
   "execution_count": null,
   "metadata": {},
   "outputs": [],
   "source": []
  }
 ],
 "metadata": {
  "kernelspec": {
   "display_name": "vae",
   "language": "python",
   "name": "vae"
  },
  "language_info": {
   "codemirror_mode": {
    "name": "ipython",
    "version": 3
   },
   "file_extension": ".py",
   "mimetype": "text/x-python",
   "name": "python",
   "nbconvert_exporter": "python",
   "pygments_lexer": "ipython3",
   "version": "3.10.6"
  },
  "orig_nbformat": 4,
  "vscode": {
   "interpreter": {
    "hash": "916dbcbb3f70747c44a77c7bcd40155683ae19c65e1c03b4aa3499c5328201f1"
   }
  }
 },
 "nbformat": 4,
 "nbformat_minor": 2
}
